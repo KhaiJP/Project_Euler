{
 "cells": [
  {
   "cell_type": "code",
   "execution_count": 26,
   "metadata": {},
   "outputs": [],
   "source": [
    "def Is_Prime(num:int)->bool:\n",
    "    '''\n",
    "    this function is to find if the number num is prime\n",
    "    with unit probability.\n",
    "    this function is not the fastest.\n",
    "    '''\n",
    "    if num==1 or num%2==0 and num!=2:\n",
    "        return False\n",
    "    else:\n",
    "        for i in range(3,int(num**(1/2))+1,2):\n",
    "            if num%i==0:\n",
    "                return False\n",
    "    return True\n",
    "\n",
    "def Prime(num:int)->list:\n",
    "    '''\n",
    "    This function is to generate the list of prime numbers up to num\n",
    "    '''\n",
    "    a=[2]\n",
    "    if num==2:\n",
    "        return a\n",
    "    elif num>2:\n",
    "        for i in range(3,num+1,2):\n",
    "            if Is_Prime(i):\n",
    "                a.append(i)\n",
    "        return a\n",
    "\n",
    "def Least_Prime(num:int)->int:\n",
    "    '''\n",
    "    This function is to generate the least prime factor of num\n",
    "    '''\n",
    "    if num%2==0:\n",
    "        return 2\n",
    "    for i in range(3, num+1, 2):\n",
    "        if num%i==0:\n",
    "            return i\n",
    "\n",
    "def Greatest_Prime(num:int)->int:\n",
    "    '''\n",
    "    This function is to generate the greatest prime factor of num\n",
    "    '''\n",
    "    if Is_Prime(num):\n",
    "        return num\n",
    "    while True:\n",
    "        lp=Least_Prime(num)\n",
    "        while num%lp==0:\n",
    "            num//=lp\n",
    "        if num==1:\n",
    "            return lp\n",
    "        if Is_Prime(num):\n",
    "            return num\n",
    "        \n",
    "        \n",
    "\n",
    "def Prime_Factor(num:int)->list:\n",
    "    '''\n",
    "    This function is to generate the list of prime factors of num\n",
    "    '''\n",
    "    primes=Prime(num//Least_Prime)\n",
    "    return [i for i in primes if num%i==0]"
   ]
  },
  {
   "cell_type": "code",
   "execution_count": 28,
   "metadata": {},
   "outputs": [
    {
     "data": {
      "text/plain": [
       "5"
      ]
     },
     "execution_count": 28,
     "metadata": {},
     "output_type": "execute_result"
    }
   ],
   "source": [
    "Greatest_Prime(45)"
   ]
  },
  {
   "cell_type": "code",
   "execution_count": 13,
   "metadata": {},
   "outputs": [
    {
     "data": {
      "text/plain": [
       "int"
      ]
     },
     "execution_count": 13,
     "metadata": {},
     "output_type": "execute_result"
    }
   ],
   "source": [
    "type(Least_Prime(77))"
   ]
  },
  {
   "cell_type": "code",
   "execution_count": 25,
   "metadata": {},
   "outputs": [
    {
     "data": {
      "text/plain": [
       "7"
      ]
     },
     "execution_count": 25,
     "metadata": {},
     "output_type": "execute_result"
    }
   ],
   "source": [
    "lp=2\n",
    "a=28\n",
    "while a%lp==0:\n",
    "    a//=lp\n",
    "a"
   ]
  },
  {
   "cell_type": "code",
   "execution_count": null,
   "metadata": {},
   "outputs": [],
   "source": []
  }
 ],
 "metadata": {
  "kernelspec": {
   "display_name": "Python 3",
   "language": "python",
   "name": "python3"
  },
  "language_info": {
   "codemirror_mode": {
    "name": "ipython",
    "version": 3
   },
   "file_extension": ".py",
   "mimetype": "text/x-python",
   "name": "python",
   "nbconvert_exporter": "python",
   "pygments_lexer": "ipython3",
   "version": "3.7.0"
  }
 },
 "nbformat": 4,
 "nbformat_minor": 2
}
