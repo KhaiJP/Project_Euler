{
 "cells": [
  {
   "cell_type": "code",
   "execution_count": 1,
   "metadata": {},
   "outputs": [],
   "source": [
    "# def perm(ls:list)->list:\n",
    "#     '''\n",
    "#     This function is to generate the lists that each component corresponds the list\n",
    "#     whose components are the purmutaion of the original list's components.\n",
    "#     If the input is [1,2], then the output is [[1,2],[2,1]]\n",
    "#     '''\n",
    "#     if len(ls)==1:\n",
    "#         return [ls]\n",
    "#     elif len(ls)==2:\n",
    "#         result=[ls]\n",
    "#         LS=[ls[1],ls[0]]\n",
    "#         result.append(LS)\n",
    "#         return result\n",
    "#     else:\n",
    "#         for i in range(len(ls)):\n",
    "            \n",
    "            \n",
    "            "
   ]
  },
  {
   "cell_type": "code",
   "execution_count": 1,
   "metadata": {},
   "outputs": [],
   "source": [
    "import my_functions as mf"
   ]
  },
  {
   "cell_type": "code",
   "execution_count": 3,
   "metadata": {},
   "outputs": [
    {
     "name": "stdout",
     "output_type": "stream",
     "text": [
      "1\n",
      "1\n",
      "2\n",
      "2\n",
      "4\n",
      "2\n",
      "6\n",
      "4\n",
      "6\n",
      "4\n",
      "10\n",
      "4\n",
      "12\n",
      "6\n",
      "8\n",
      "8\n",
      "16\n",
      "6\n",
      "18\n",
      "8\n",
      "12\n",
      "10\n",
      "22\n",
      "8\n",
      "20\n",
      "12\n",
      "18\n",
      "12\n",
      "28\n",
      "8\n"
     ]
    }
   ],
   "source": [
    "for j in range(1,31):\n",
    "    print(mf.phifunc(j))"
   ]
  },
  {
   "cell_type": "code",
   "execution_count": 2,
   "metadata": {},
   "outputs": [
    {
     "data": {
      "text/plain": [
       "4"
      ]
     },
     "execution_count": 2,
     "metadata": {},
     "output_type": "execute_result"
    }
   ],
   "source": [
    "mf.phifunc(5)"
   ]
  },
  {
   "cell_type": "code",
   "execution_count": null,
   "metadata": {},
   "outputs": [],
   "source": []
  }
 ],
 "metadata": {
  "kernelspec": {
   "display_name": "Python 3",
   "language": "python",
   "name": "python3"
  },
  "language_info": {
   "codemirror_mode": {
    "name": "ipython",
    "version": 3
   },
   "file_extension": ".py",
   "mimetype": "text/x-python",
   "name": "python",
   "nbconvert_exporter": "python",
   "pygments_lexer": "ipython3",
   "version": "3.7.0"
  }
 },
 "nbformat": 4,
 "nbformat_minor": 2
}
