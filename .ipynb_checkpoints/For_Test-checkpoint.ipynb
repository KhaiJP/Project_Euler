{
 "cells": [
  {
   "cell_type": "code",
   "execution_count": 4,
   "metadata": {},
   "outputs": [
    {
     "name": "stdout",
     "output_type": "stream",
     "text": [
      "0\n",
      "1\n",
      "2\n",
      "3\n",
      "4\n",
      "5\n",
      "6\n",
      "7\n",
      "8\n",
      "9\n"
     ]
    }
   ],
   "source": [
    "# n=0\n",
    "# while True:\n",
    "#     if n<10:\n",
    "#         print(n)\n",
    "#         n+=1\n",
    "#     else:\n",
    "#         break"
   ]
  },
  {
   "cell_type": "code",
   "execution_count": 1,
   "metadata": {},
   "outputs": [
    {
     "name": "stdout",
     "output_type": "stream",
     "text": [
      "[0, 1, 32, 243, 1024, 3125, 7776, 16807, 32768, 59049]\n",
      "[0, 1, 2, 3, 4, 5, 6, 7, 8, 9]\n"
     ]
    }
   ],
   "source": [
    "fifth_list=[]\n",
    "for i in range(10):\n",
    "    fifth_list.append(i**5)\n",
    "print(fifth_list)\n",
    "print(list(range(10)))"
   ]
  },
  {
   "cell_type": "code",
   "execution_count": 10,
   "metadata": {},
   "outputs": [
    {
     "name": "stdout",
     "output_type": "stream",
     "text": [
      "1\n",
      "[1]\n",
      "10\n",
      "[0]\n",
      "1\n",
      "[0, 1]\n",
      "11\n",
      "[1]\n",
      "1\n",
      "[1, 1]\n",
      "20\n",
      "[0]\n",
      "21\n",
      "[1]\n",
      "30\n",
      "[0]\n",
      "31\n",
      "[1]\n"
     ]
    }
   ],
   "source": [
    "# Sum=0\n",
    "# # for i in range(9):\n",
    "# for j in range(fifth_list[1],fifth_list[1+1]):\n",
    "#     a=[]\n",
    "#     b=True\n",
    "#     while j>0:\n",
    "#         if j%10>=1+1:\n",
    "#             b=False\n",
    "#             break\n",
    "#         else:\n",
    "#             a.append(fifth_list[j%10])\n",
    "#             print(j)\n",
    "#             j=j//10\n",
    "#             print(a)\n",
    "#     if b and sum(a)==j:\n",
    "#         Sum+=j\n",
    "#         print(Sum)"
   ]
  },
  {
   "cell_type": "code",
   "execution_count": null,
   "metadata": {},
   "outputs": [],
   "source": [
    "# Sum=0\n",
    "# for i in range(9):\n",
    "# '''\n",
    "# To decrease the amount of calculation, we consider the section, [int^5,(int+1)^5).\n",
    "# '''\n",
    "#     for j in range(fifth_list[i],fifth_list[i+1]):\n",
    "#         a=[]\n",
    "#         b=True\n",
    "#         while j>0:\n",
    "#             '''\n",
    "#             We are going to consider decreasing the number to calculate the digit.\n",
    "#             If the number gets lower than or equal to 0, the loop ends.\n",
    "#             '''\n",
    "#             if j%10>=i+1:\n",
    "#                 '''\n",
    "#                 When we considering the section [int^5,(int+1)^5),\n",
    "#                 and if one of the digits exeeds (int+1), the original number must exeed (int+1)^5.\n",
    "#                 Hence we can eliminate the number from the candidate.\n",
    "#                 Then b turns to False\n",
    "#                 '''\n",
    "#                 b=False\n",
    "#                 break\n",
    "#             else:\n",
    "#                 a.append(fifth_list[j%10])\n",
    "#                 j=j//10\n",
    "#         if b and sum(a)==j:\n",
    "#             Sum+=j\n",
    "#             print(j)\n",
    "# # for j in range(fifth_list[9],10**6):\n",
    "# #     a=[]\n",
    "# #     b=True\n",
    "# #     while j>0:\n",
    "# #         if j%10<i+1:\n",
    "# #             a.append(fifth_list[j%10])\n",
    "# #             j=j//10\n",
    "# #     else:\n",
    "# #         b=False\n",
    "# #         break\n",
    "# #     if b and sum(a)==j:\n",
    "# #         Sum+=j\n",
    "# #         print(j)\n",
    "# print(Sum)"
   ]
  },
  {
   "cell_type": "code",
   "execution_count": 2,
   "metadata": {},
   "outputs": [],
   "source": [
    "import math"
   ]
  },
  {
   "cell_type": "code",
   "execution_count": 31,
   "metadata": {},
   "outputs": [
    {
     "name": "stdout",
     "output_type": "stream",
     "text": [
      "Yes!!!!!!!!!!!!!!!!!!!!!!!!! 1!!!!!!!!\n",
      "Yes!!!!!!!!!!!!!!!!!!!!!!!!! 2!!!!!!!!\n",
      "Yes!!!!!!!!!!!!!!!!!!!!!!!!! 145!!!!!!!!\n"
     ]
    }
   ],
   "source": [
    "# Sum=0\n",
    "# for i in range(6):\n",
    "# #     print('From here, i = {0}, hence [{1},{2}).'.format(i,10**i,10**(i+1)))\n",
    "#     for j in range(math.factorial(i),math.factorial(i+1)):\n",
    "#         a=[]\n",
    "#         b=True\n",
    "#         k=j\n",
    "#         while j>0:\n",
    "#             if j%10<i+1:\n",
    "#                 a.append(j%10)\n",
    "#                 j=j//10\n",
    "#             else:\n",
    "# #                 print('When we consider j = {0}, {1} is the error.'.format(j,k))\n",
    "#                 b=False\n",
    "#                 break\n",
    "#         if b and sum(map(math.factorial,a))==k:\n",
    "#             print('Yes!!!!!!!!!!!!!!!!!!!!!!!!! {0}!!!!!!!!'.format(k,a))"
   ]
  },
  {
   "cell_type": "code",
   "execution_count": 5,
   "metadata": {},
   "outputs": [
    {
     "data": {
      "text/plain": [
       "[0, 1, 32, 243, 1024, 3125, 7776, 16807, 32768, 59049]"
      ]
     },
     "execution_count": 5,
     "metadata": {},
     "output_type": "execute_result"
    }
   ],
   "source": [
    "fifth_list"
   ]
  },
  {
   "cell_type": "code",
   "execution_count": 31,
   "metadata": {},
   "outputs": [
    {
     "name": "stdout",
     "output_type": "stream",
     "text": [
      "Yes!!!!!!!!!!!!!!!!!!!!!!!!! 1!!!!!!!!\n",
      "Yes!!!!!!!!!!!!!!!!!!!!!!!!! 4150!!!!!!!!\n",
      "Yes!!!!!!!!!!!!!!!!!!!!!!!!! 4151!!!!!!!!\n",
      "Yes!!!!!!!!!!!!!!!!!!!!!!!!! 54748!!!!!!!!\n",
      "Yes!!!!!!!!!!!!!!!!!!!!!!!!! 92727!!!!!!!!\n",
      "Yes!!!!!!!!!!!!!!!!!!!!!!!!! 93084!!!!!!!!\n",
      "Yes!!!!!!!!!!!!!!!!!!!!!!!!! 194979!!!!!!!!\n",
      "443840\n"
     ]
    }
   ],
   "source": [
    "Sum=0\n",
    "for i in range(1,9):\n",
    "#     print('We are currently considering [{0},{1}).'.format(fifth_list[i],fifth_list[i+1]))\n",
    "#     print('Hence each digit must not be greater than or equal to {}'.format(i+1))\n",
    "#     print('From here, i = {0}, hence [{1},{2}).'.format(i,10**i,10**(i+1)))\n",
    "    for j in range(fifth_list[i],fifth_list[i+1]):\n",
    "        a=[]\n",
    "        b=True\n",
    "        k=j\n",
    "        while j>0:\n",
    "            a.insert(0,j%10)\n",
    "            if a[0]<i+1:\n",
    "                j=j//10\n",
    "            else:\n",
    "#                 print('When we consider j = {0}, {1} is the error.'.format(j,k)\n",
    "#                 print('{0}, {1}'.format(k,a))\n",
    "#                 print('Error!!! {} is greater than or equal to {}!!!!'.format(j,i+1))\n",
    "                b=False\n",
    "                break\n",
    "        if b and sum(map(lambda num:fifth_list[num],a))==k:\n",
    "#             print(a)\n",
    "            print('Yes!!!!!!!!!!!!!!!!!!!!!!!!! {0}!!!!!!!!'.format(k,a))\n",
    "            Sum+=sum(map(lambda num:fifth_list[num],a))\n",
    "# print('We are currently considering [{0},{1}).'.format(fifth_list[i],10**6))\n",
    "for j in range(fifth_list[9],10**6+1):\n",
    "    a=[]\n",
    "    b=True\n",
    "    k=j\n",
    "    while j>0:\n",
    "        a.append(j%10)\n",
    "        j=j//10\n",
    "    if sum(map(lambda num:fifth_list[num],a))==k:\n",
    "        print('Yes!!!!!!!!!!!!!!!!!!!!!!!!! {0}!!!!!!!!'.format(k,a))\n",
    "        Sum+=sum(map(lambda num:fifth_list[num],a))\n",
    "print(Sum)"
   ]
  },
  {
   "cell_type": "code",
   "execution_count": 16,
   "metadata": {},
   "outputs": [],
   "source": [
    "# for j in range(fifth_list[9],10**7+1):\n",
    "#     a=[]\n",
    "#     b=True\n",
    "#     k=j\n",
    "#     while j>0:\n",
    "#         a.append(j%10)\n",
    "#         if a[-1]<i+1:\n",
    "#             j=j//10\n",
    "#         else:\n",
    "#             b=False\n",
    "#             break\n",
    "#     if b and sum(map(lambda num:fifth_list[num],a))==k:\n",
    "#         print('Yes!!!!!!!!!!!!!!!!!!!!!!!!! {0}!!!!!!!!'.format(k,a))"
   ]
  },
  {
   "cell_type": "code",
   "execution_count": 13,
   "metadata": {},
   "outputs": [
    {
     "data": {
      "text/plain": [
       "59049"
      ]
     },
     "execution_count": 13,
     "metadata": {},
     "output_type": "execute_result"
    }
   ],
   "source": [
    "fifth_list[-1]"
   ]
  },
  {
   "cell_type": "code",
   "execution_count": 15,
   "metadata": {},
   "outputs": [
    {
     "data": {
      "text/plain": [
       "4150"
      ]
     },
     "execution_count": 15,
     "metadata": {},
     "output_type": "execute_result"
    }
   ],
   "source": [
    "4**5+1+5**5"
   ]
  },
  {
   "cell_type": "code",
   "execution_count": 3,
   "metadata": {},
   "outputs": [],
   "source": [
    "A=[5,4,7,4,8]"
   ]
  },
  {
   "cell_type": "code",
   "execution_count": 5,
   "metadata": {},
   "outputs": [
    {
     "data": {
      "text/plain": [
       "54748"
      ]
     },
     "execution_count": 5,
     "metadata": {},
     "output_type": "execute_result"
    }
   ],
   "source": [
    "B=sum(map(lambda num:fifth_list[num],A))\n",
    "B"
   ]
  },
  {
   "cell_type": "code",
   "execution_count": 6,
   "metadata": {},
   "outputs": [
    {
     "data": {
      "text/plain": [
       "59049"
      ]
     },
     "execution_count": 6,
     "metadata": {},
     "output_type": "execute_result"
    }
   ],
   "source": [
    "fifth_list[9]"
   ]
  },
  {
   "cell_type": "code",
   "execution_count": 17,
   "metadata": {},
   "outputs": [
    {
     "data": {
      "text/plain": [
       "True"
      ]
     },
     "execution_count": 17,
     "metadata": {},
     "output_type": "execute_result"
    }
   ],
   "source": [
    "10**6>9**5*7"
   ]
  },
  {
   "cell_type": "code",
   "execution_count": 19,
   "metadata": {},
   "outputs": [
    {
     "data": {
      "text/plain": [
       "63049"
      ]
     },
     "execution_count": 19,
     "metadata": {},
     "output_type": "execute_result"
    }
   ],
   "source": [
    "4150+4151+54748"
   ]
  },
  {
   "cell_type": "code",
   "execution_count": null,
   "metadata": {},
   "outputs": [],
   "source": []
  }
 ],
 "metadata": {
  "kernelspec": {
   "display_name": "Python 3",
   "language": "python",
   "name": "python3"
  },
  "language_info": {
   "codemirror_mode": {
    "name": "ipython",
    "version": 3
   },
   "file_extension": ".py",
   "mimetype": "text/x-python",
   "name": "python",
   "nbconvert_exporter": "python",
   "pygments_lexer": "ipython3",
   "version": "3.7.0"
  }
 },
 "nbformat": 4,
 "nbformat_minor": 2
}
