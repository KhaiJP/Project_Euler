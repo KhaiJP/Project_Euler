{
 "cells": [
  {
   "cell_type": "code",
   "execution_count": 1,
   "metadata": {},
   "outputs": [],
   "source": [
    "import sys; sys.path.append(\"../My_Functions\")\n",
    "import my_functions as mf"
   ]
  },
  {
   "cell_type": "code",
   "execution_count": 3,
   "metadata": {},
   "outputs": [],
   "source": [
    "def answer(n=35):\n",
    "    LIST_OF_PRIMES=mf.pms(n-2,3)\n",
    "    while True:\n",
    "        BOOL=False\n",
    "        if mf.ispm(n): LIST_OF_PRIMES.append(n)\n",
    "        for prime in LIST_OF_PRIMES:\n",
    "            if int(((n-prime)//2)**(1/2))==((n-prime)//2)**(1/2):\n",
    "                BOOL=True\n",
    "                break\n",
    "        if BOOL: n+=2\n",
    "        else: return print(n)"
   ]
  },
  {
   "cell_type": "code",
   "execution_count": 6,
   "metadata": {},
   "outputs": [
    {
     "name": "stdout",
     "output_type": "stream",
     "text": [
      "5993\n",
      "CPU times: user 243 ms, sys: 2.86 ms, total: 245 ms\n",
      "Wall time: 261 ms\n"
     ]
    }
   ],
   "source": [
    "%%time\n",
    "answer()"
   ]
  }
 ],
 "metadata": {
  "kernelspec": {
   "display_name": "Python 3",
   "language": "python",
   "name": "python3"
  },
  "language_info": {
   "codemirror_mode": {
    "name": "ipython",
    "version": 3
   },
   "file_extension": ".py",
   "mimetype": "text/x-python",
   "name": "python",
   "nbconvert_exporter": "python",
   "pygments_lexer": "ipython3",
   "version": "3.7.0"
  }
 },
 "nbformat": 4,
 "nbformat_minor": 2
}
