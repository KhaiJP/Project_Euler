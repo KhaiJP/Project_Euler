{
 "cells": [
  {
   "cell_type": "code",
   "execution_count": 1,
   "metadata": {},
   "outputs": [
    {
     "data": {
      "text/plain": [
       "'\\nThis program is to find the sum of all the numbers that can be written as the sum of fifth powers of theri digits.\\nNote that 1=1**5 is not included as 1**5 is not a sum.\\n'"
      ]
     },
     "execution_count": 1,
     "metadata": {},
     "output_type": "execute_result"
    }
   ],
   "source": [
    "'''\n",
    "This program is to find the sum of all the numbers that can be written as the sum of fifth powers of theri digits.\n",
    "Note that 1=1**5 is not included as 1**5 is not a sum.\n",
    "'''"
   ]
  },
  {
   "cell_type": "code",
   "execution_count": 1,
   "metadata": {},
   "outputs": [],
   "source": [
    "def answer():\n",
    "    fifth_list=[]\n",
    "    for i in range(10):\n",
    "        fifth_list.append(i**5)\n",
    "    Sum=0\n",
    "    for i in range(2,9):\n",
    "        for j in range(fifth_list[i],fifth_list[i+1]):\n",
    "            a=[]\n",
    "            b=True\n",
    "            k=j\n",
    "            while j>0:\n",
    "                a.insert(0,j%10)\n",
    "                if a[0]<i+1:\n",
    "                    j=j//10\n",
    "                else:\n",
    "                    b=False\n",
    "                    break\n",
    "            if b and sum(map(lambda num:fifth_list[num],a))==k:\n",
    "                print('Yes!!!!!!!!!!!!!!!!!!!!!!!!! {0}!!!!!!!!'.format(k,a))\n",
    "                Sum+=sum(map(lambda num:fifth_list[num],a))\n",
    "    for j in range(fifth_list[9],6*9**5):\n",
    "        a=[]\n",
    "        b=True\n",
    "        k=j\n",
    "        while j>0:\n",
    "            a.append(j%10)\n",
    "            j=j//10\n",
    "        if sum(map(lambda num:fifth_list[num],a))==k:\n",
    "            print('Yes!!!!!!!!!!!!!!!!!!!!!!!!! {0}!!!!!!!!'.format(k,a))\n",
    "            Sum+=sum(map(lambda num:fifth_list[num],a))\n",
    "    print(Sum)"
   ]
  },
  {
   "cell_type": "code",
   "execution_count": 2,
   "metadata": {},
   "outputs": [
    {
     "name": "stdout",
     "output_type": "stream",
     "text": [
      "Yes!!!!!!!!!!!!!!!!!!!!!!!!! 4150!!!!!!!!\n",
      "Yes!!!!!!!!!!!!!!!!!!!!!!!!! 4151!!!!!!!!\n",
      "Yes!!!!!!!!!!!!!!!!!!!!!!!!! 54748!!!!!!!!\n",
      "Yes!!!!!!!!!!!!!!!!!!!!!!!!! 92727!!!!!!!!\n",
      "Yes!!!!!!!!!!!!!!!!!!!!!!!!! 93084!!!!!!!!\n",
      "Yes!!!!!!!!!!!!!!!!!!!!!!!!! 194979!!!!!!!!\n",
      "443839\n"
     ]
    }
   ],
   "source": [
    "answer()"
   ]
  }
 ],
 "metadata": {
  "kernelspec": {
   "display_name": "Python 3",
   "language": "python",
   "name": "python3"
  },
  "language_info": {
   "codemirror_mode": {
    "name": "ipython",
    "version": 3
   },
   "file_extension": ".py",
   "mimetype": "text/x-python",
   "name": "python",
   "nbconvert_exporter": "python",
   "pygments_lexer": "ipython3",
   "version": "3.7.0"
  }
 },
 "nbformat": 4,
 "nbformat_minor": 2
}
