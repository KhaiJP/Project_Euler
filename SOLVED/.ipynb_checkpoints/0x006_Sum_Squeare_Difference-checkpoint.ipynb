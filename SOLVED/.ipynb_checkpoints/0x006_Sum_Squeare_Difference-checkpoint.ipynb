{
 "cells": [
  {
   "cell_type": "code",
   "execution_count": 1,
   "metadata": {},
   "outputs": [
    {
     "data": {
      "text/plain": [
       "'\\nThis program is to find the difference \\\\sigma_{n=1}^{100}(n^2)-(\\\\sigma_{n=1}^{100}n)^2\\n'"
      ]
     },
     "execution_count": 1,
     "metadata": {},
     "output_type": "execute_result"
    }
   ],
   "source": [
    "'''\n",
    "This program is to find the difference \\sigma_{n=1}^{100}(n^2)-(\\sigma_{n=1}^{100}n)^2\n",
    "'''"
   ]
  },
  {
   "cell_type": "code",
   "execution_count": 2,
   "metadata": {},
   "outputs": [],
   "source": [
    "# import numpy as np"
   ]
  },
  {
   "cell_type": "code",
   "execution_count": 3,
   "metadata": {},
   "outputs": [],
   "source": [
    "def Element_Product(vec1:list, vec2:list)->list:\n",
    "    '''\n",
    "    This function is to yield the naive product of two vectors\n",
    "    if and only if dim(vec1) = dim(vec2).\n",
    "    The result is \\otimes\\sum_{k=0}^{dim(vec1-1)}(vec1)_k*(vec2)_k\n",
    "    '''\n",
    "    if len(vec1)!=len(vec2):\n",
    "        return print('The dimension of the two vectors must be the same.')\n",
    "    c=[]\n",
    "    for i in range(len(vec1)):\n",
    "        c.append(vec1[i]*vec2[i])\n",
    "    return c"
   ]
  },
  {
   "cell_type": "code",
   "execution_count": 4,
   "metadata": {},
   "outputs": [],
   "source": [
    "def Element_Square(vec1:list)->list:\n",
    "    return Element_Product(vec1,vec1)"
   ]
  },
  {
   "cell_type": "code",
   "execution_count": 5,
   "metadata": {},
   "outputs": [],
   "source": [
    "def Element_Square_Sum(vec1:list)->int:\n",
    "    return sum(Element_Square(vec1))"
   ]
  },
  {
   "cell_type": "code",
   "execution_count": 6,
   "metadata": {},
   "outputs": [],
   "source": [
    "def Element_Sum_Square(vec1:list)->int:\n",
    "    return sum(vec1)**2"
   ]
  },
  {
   "cell_type": "code",
   "execution_count": 7,
   "metadata": {},
   "outputs": [],
   "source": [
    "def answer(num:int)->int:\n",
    "    vec1=list(range(1,num+1))\n",
    "    return Element_Sum_Square(vec1)-Element_Square_Sum(vec1)"
   ]
  },
  {
   "cell_type": "code",
   "execution_count": 11,
   "metadata": {},
   "outputs": [
    {
     "data": {
      "text/plain": [
       "2500000166666641666665000000"
      ]
     },
     "execution_count": 11,
     "metadata": {},
     "output_type": "execute_result"
    }
   ],
   "source": [
    "answer(10000000)"
   ]
  },
  {
   "cell_type": "code",
   "execution_count": null,
   "metadata": {},
   "outputs": [],
   "source": []
  }
 ],
 "metadata": {
  "kernelspec": {
   "display_name": "Python 3",
   "language": "python",
   "name": "python3"
  },
  "language_info": {
   "codemirror_mode": {
    "name": "ipython",
    "version": 3
   },
   "file_extension": ".py",
   "mimetype": "text/x-python",
   "name": "python",
   "nbconvert_exporter": "python",
   "pygments_lexer": "ipython3",
   "version": "3.7.0"
  }
 },
 "nbformat": 4,
 "nbformat_minor": 2
}
