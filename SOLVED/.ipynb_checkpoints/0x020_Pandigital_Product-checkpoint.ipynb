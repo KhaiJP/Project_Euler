{
 "cells": [
  {
   "cell_type": "markdown",
   "metadata": {},
   "source": [
    "### 1-digit number times 3-digit number cannot achieve 5-digit number.\n",
    "### Similarly, 1-digit number times 5-digit number cannot be 3-digit number.\n",
    "### Hence when the multiplicand is a 1-digit number, the multiplier and the product are both 4-digit number.\n",
    "### Moreover, the 1-digit multiplicand cannot be 9 as $9\\times1234=11106$."
   ]
  },
  {
   "cell_type": "code",
   "execution_count": 3,
   "metadata": {},
   "outputs": [],
   "source": [
    "import itertools as it"
   ]
  },
  {
   "cell_type": "markdown",
   "metadata": {},
   "source": [
    "#### The basic idea of the algorithm is as following. \n",
    "#### The variable 'MULTIPLICAND' defines the order of multiplicand.\n",
    "#### 'reference' is the list of the sets whose components are from 1 through 9. \n",
    "#### 'REFERENCE' is the list of multiplicand. \n",
    "#### Hence when MULTIPLICAND is 2, REFERENCE = [ 12 , 13 , 14 , ... , 98 ].\n",
    "#### 'multipliers' is the list of multipliers according to the component of REFERENCE. \n",
    "#### Hense \n",
    "$$\n",
    "\\begin{align}\n",
    "\\mbox{len}\\bigl(\\mbox{multipliers}\\bigr) &=\\mbox{len}\\bigl(\\mbox{REFERENCE}\\bigr) \\\\\n",
    "\\mbox{len}\\bigl(\\mbox{multipliers}([j])\\bigr) &= _{(9-\\rm{MULTIPLIER})}C_4 \n",
    "\\end{align}\n",
    "$$"
   ]
  },
  {
   "cell_type": "code",
   "execution_count": 21,
   "metadata": {},
   "outputs": [],
   "source": [
    "def answer():\n",
    "    ref=set(list(map(lambda j:str(j),list((range(1,10))))))\n",
    "    ref_set=set([])\n",
    "    for MULTIPLICAND in [1,2]:\n",
    "        MUL=5-MULTIPLICAND #MUL is the order of the multipliers\n",
    "        multipliers=[]\n",
    "\n",
    "        if MULTIPLICAND==1:\n",
    "            REFERENCE=list(range(1,10))\n",
    "            reference=list(map(lambda j:set([j]),REFERENCE))\n",
    "        if MULTIPLICAND==2:\n",
    "            reference=list(it.permutations(list(range(1,10)),MULTIPLICAND))\n",
    "            REFERENCE=list(map(lambda j:10*j[0]+j[1],reference))\n",
    "\n",
    "        for j in range(len(reference)):\n",
    "            multiplicands=[k for k in range(1,10) if not k in reference[j]]\n",
    "\n",
    "            multipliers.append(list(it.permutations(multiplicands,MUL)))\n",
    "            for k in range(len(multipliers[j])):\n",
    "                void=0\n",
    "                for l in range(MUL):\n",
    "                    void+=10**l*multipliers[j][k][l]\n",
    "                multipliers[j][k]=void\n",
    "\n",
    "        for j in range(len(REFERENCE)):\n",
    "            for l in multipliers[j]:\n",
    "                J=REFERENCE[j]*l\n",
    "                if J//(10**4)>0:continue\n",
    "                REF=set(str(J)+str(REFERENCE[j])+str(l))\n",
    "                if REF==ref:\n",
    "                    ref_set.add(J)\n",
    "    print(ref_set)\n",
    "    return sum(ref_set)"
   ]
  },
  {
   "cell_type": "code",
   "execution_count": 22,
   "metadata": {},
   "outputs": [
    {
     "name": "stdout",
     "output_type": "stream",
     "text": [
      "{5346, 5796, 6952, 7852, 4396, 7632, 7254}\n",
      "CPU times: user 49.9 ms, sys: 1.84 ms, total: 51.8 ms\n",
      "Wall time: 54.8 ms\n"
     ]
    },
    {
     "data": {
      "text/plain": [
       "45228"
      ]
     },
     "execution_count": 22,
     "metadata": {},
     "output_type": "execute_result"
    }
   ],
   "source": [
    "%%time\n",
    "answer()"
   ]
  },
  {
   "cell_type": "code",
   "execution_count": 102,
   "metadata": {},
   "outputs": [
    {
     "name": "stdout",
     "output_type": "stream",
     "text": [
      "12 483\n",
      "18 297\n",
      "27 198\n",
      "28 157\n",
      "39 186\n",
      "42 138\n",
      "48 159\n",
      "45228\n",
      "CPU times: user 74.3 ms, sys: 3.07 ms, total: 77.4 ms\n",
      "Wall time: 76.9 ms\n"
     ]
    }
   ],
   "source": [
    "%%time\n",
    "\n",
    "BIG_LIST=[]\n",
    "# multiplicand=[]\n",
    "ref=set(list(map(lambda j:str(j),list((range(1,10))))))\n",
    "ref_set=set([])\n",
    "for j in range(1,10):\n",
    "    multiplicand=[k for k in range(1,10) if k!=j]\n",
    "    J=j-1\n",
    "    BIG_LIST.append(list(it.permutations(multiplicand,4)))\n",
    "    for k in range(len(BIG_LIST[J])):\n",
    "        BIG_LIST[J][k]=10**3*BIG_LIST[J][k][0]+10**2*BIG_LIST[J][k][1]+10*BIG_LIST[J][k][2]+BIG_LIST[J][k][3]\n",
    "for j in range(9):\n",
    "    for l in BIG_LIST[j]:\n",
    "        J=(j+1)*l\n",
    "        if J//(10**4)>0:continue\n",
    "        REF=set(str(J)+str(j+1)+str(l))\n",
    "        if REF==ref:ref_set.add(J)\n",
    "BIG_LIST2=[]\n",
    "reference=list(it.permutations(list(range(1,10)),2))\n",
    "REFERENCE=list(map(lambda j:10*j[0]+j[1],reference))\n",
    "for j in range(len(reference)):\n",
    "    multiplicand=[k for k in range(1,10) if not k in reference[j]]\n",
    "    BIG_LIST2.append(list(it.permutations(multiplicand,3)))\n",
    "    for k in range(len(BIG_LIST2[j])):\n",
    "        BIG_LIST2[j][k]=10**2*BIG_LIST2[j][k][0]+10*BIG_LIST2[j][k][1]+BIG_LIST2[j][k][2]\n",
    "for j in range(len(REFERENCE)):\n",
    "    for l in BIG_LIST2[j]:\n",
    "        J=REFERENCE[j]*l\n",
    "        if J//(10**4)>0:continue\n",
    "        REF=set(str(J)+str(REFERENCE[j])+str(l))\n",
    "        if REF==ref:\n",
    "            ref_set.add(J)\n",
    "return sum(ref_set)\n",
    "answer=sum(ref_set)\n",
    "print(answer) "
   ]
  }
 ],
 "metadata": {
  "kernelspec": {
   "display_name": "Python 3",
   "language": "python",
   "name": "python3"
  },
  "language_info": {
   "codemirror_mode": {
    "name": "ipython",
    "version": 3
   },
   "file_extension": ".py",
   "mimetype": "text/x-python",
   "name": "python",
   "nbconvert_exporter": "python",
   "pygments_lexer": "ipython3",
   "version": "3.7.0"
  }
 },
 "nbformat": 4,
 "nbformat_minor": 2
}
