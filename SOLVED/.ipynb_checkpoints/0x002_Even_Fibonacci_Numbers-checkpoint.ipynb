{
 "cells": [
  {
   "cell_type": "code",
   "execution_count": 1,
   "metadata": {},
   "outputs": [
    {
     "data": {
      "text/plain": [
       "'\\nThis program is to solve the #2 of Project Euler.\\nBy considering the terms in the Fibonacci sequence whose values do not exceed 4*10**6,\\nfing the sum of the even-valued terms.\\n'"
      ]
     },
     "execution_count": 1,
     "metadata": {},
     "output_type": "execute_result"
    }
   ],
   "source": [
    "'''\n",
    "This program is to solve the #2 of Project Euler.\n",
    "By considering the terms in the Fibonacci sequence whose values do not exceed 4*10**6,\n",
    "fing the sum of the even-valued terms.\n",
    "'''"
   ]
  },
  {
   "cell_type": "code",
   "execution_count": 2,
   "metadata": {},
   "outputs": [],
   "source": [
    "# defining the Fibonacci sequence.\n",
    "def Fibonacci_Length(length_of_sequence:int)->list:\n",
    "    '''\n",
    "    This function is to return the list of Fibonacci sequence with starting a[0]=1 and a[1]=2.\n",
    "    The length_of_sequence must be greater than 1\n",
    "    '''\n",
    "    if length_of_sequence<2:\n",
    "        return print('Error! The arg must be greater than 1!')\n",
    "    a=[1,2]\n",
    "    for i in range(length_of_sequence-2):\n",
    "        a.append(a[i]+a[i+1])\n",
    "    return a"
   ]
  },
  {
   "cell_type": "code",
   "execution_count": 3,
   "metadata": {},
   "outputs": [],
   "source": [
    "def Fibonacci_Sup(num:int)->list:\n",
    "    '''\n",
    "    This function is to find the length of the Fibonacci sequence \n",
    "    whose maximum value does not exeed num.\n",
    "    '''\n",
    "    i=0\n",
    "    a=Fibonacci_Length(2)\n",
    "    while a[-1]<num:\n",
    "        a.append(a[i]+a[i+1])\n",
    "        i+=1\n",
    "    a.pop()\n",
    "    return a"
   ]
  },
  {
   "cell_type": "code",
   "execution_count": 4,
   "metadata": {},
   "outputs": [],
   "source": [
    "def evenisation(List:list)->list:\n",
    "    '''\n",
    "    This function is to extract only even numbers from a given List.\n",
    "    '''\n",
    "    return list(filter(lambda num:num%2==0,List))"
   ]
  },
  {
   "cell_type": "code",
   "execution_count": 5,
   "metadata": {},
   "outputs": [],
   "source": [
    "def answer(num):\n",
    "    print(sum(evenisation(Fibonacci_Sup(num))))"
   ]
  },
  {
   "cell_type": "code",
   "execution_count": 6,
   "metadata": {},
   "outputs": [
    {
     "name": "stdout",
     "output_type": "stream",
     "text": [
      "4613732\n"
     ]
    }
   ],
   "source": [
    "answer(4*10**6)"
   ]
  },
  {
   "cell_type": "code",
   "execution_count": 7,
   "metadata": {},
   "outputs": [],
   "source": [
    "# print(Fibonacci(2))\n",
    "# sum(Fibonacci(4))"
   ]
  },
  {
   "cell_type": "code",
   "execution_count": 8,
   "metadata": {},
   "outputs": [],
   "source": [
    "# a=Find_Limit(100)\n",
    "# print(a)"
   ]
  },
  {
   "cell_type": "code",
   "execution_count": 9,
   "metadata": {},
   "outputs": [],
   "source": [
    "# evenisation(a)"
   ]
  }
 ],
 "metadata": {
  "kernelspec": {
   "display_name": "Python 3",
   "language": "python",
   "name": "python3"
  },
  "language_info": {
   "codemirror_mode": {
    "name": "ipython",
    "version": 3
   },
   "file_extension": ".py",
   "mimetype": "text/x-python",
   "name": "python",
   "nbconvert_exporter": "python",
   "pygments_lexer": "ipython3",
   "version": "3.7.0"
  }
 },
 "nbformat": 4,
 "nbformat_minor": 2
}
