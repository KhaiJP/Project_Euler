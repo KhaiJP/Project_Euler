{
 "cells": [
  {
   "cell_type": "code",
   "execution_count": 1,
   "metadata": {},
   "outputs": [],
   "source": [
    "import sys; sys.path.append(\"../My_Functions\")\n",
    "import number as nm\n",
    "import prime_function as pf\n",
    "import numpy as np"
   ]
  },
  {
   "cell_type": "code",
   "execution_count": 2,
   "metadata": {},
   "outputs": [
    {
     "data": {
      "text/plain": [
       "55"
      ]
     },
     "execution_count": 2,
     "metadata": {},
     "output_type": "execute_result"
    }
   ],
   "source": [
    "L=[2,3,5]\n",
    "for i in range(7,10**6):\n",
    "    if pf.ispm(i):\n",
    "        LS=nm.d_expansion(i)\n",
    "        bl=True\n",
    "        lngth=len(LS)\n",
    "        n=0\n",
    "        while bl and n<lngth:\n",
    "            bl=bl and LS[n]%2!=0 and LS[n]%5!=0\n",
    "            n+=1\n",
    "        if not bl:\n",
    "            continue\n",
    "        n=1\n",
    "        ls=list(nm.cycle(LS))\n",
    "        while bl and n<lngth:\n",
    "            num=0\n",
    "            for j in range(lngth):\n",
    "                num+=ls[n][-1*(j+1)]*10**j\n",
    "            bl=pf.ispm(num)\n",
    "            n+=1\n",
    "        if bl:\n",
    "            L.append(i)\n",
    "len(L)"
   ]
  },
  {
   "cell_type": "code",
   "execution_count": 3,
   "metadata": {},
   "outputs": [],
   "source": [
    "# cycle([1,2,3])"
   ]
  }
 ],
 "metadata": {
  "kernelspec": {
   "display_name": "Python 3",
   "language": "python",
   "name": "python3"
  },
  "language_info": {
   "codemirror_mode": {
    "name": "ipython",
    "version": 3
   },
   "file_extension": ".py",
   "mimetype": "text/x-python",
   "name": "python",
   "nbconvert_exporter": "python",
   "pygments_lexer": "ipython3",
   "version": "3.7.0"
  }
 },
 "nbformat": 4,
 "nbformat_minor": 2
}
