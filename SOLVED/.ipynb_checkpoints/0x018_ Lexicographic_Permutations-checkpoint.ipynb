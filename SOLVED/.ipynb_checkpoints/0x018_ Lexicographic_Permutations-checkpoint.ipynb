{
 "cells": [
  {
   "cell_type": "code",
   "execution_count": 33,
   "metadata": {},
   "outputs": [],
   "source": [
    "import sys;sys.path.append(\"../My_Functions\")\n",
    "import number as nm\n",
    "def answer(target:int,lst=list(range(0,10)))->str:\n",
    "    if len(lst)==0: return \"\"\n",
    "    ln=len(lst)\n",
    "    fac=nm.fac(ln-1)\n",
    "    number=lst.pop(target//fac)\n",
    "    return str(number)+answer(target%fac,lst)\n",
    "def Answer(target):\n",
    "    return int(answer(target-1))"
   ]
  },
  {
   "cell_type": "code",
   "execution_count": 34,
   "metadata": {},
   "outputs": [
    {
     "name": "stdout",
     "output_type": "stream",
     "text": [
      "CPU times: user 21 µs, sys: 0 ns, total: 21 µs\n",
      "Wall time: 24.1 µs\n"
     ]
    },
    {
     "data": {
      "text/plain": [
       "2783915460"
      ]
     },
     "execution_count": 34,
     "metadata": {},
     "output_type": "execute_result"
    }
   ],
   "source": [
    "%%time\n",
    "Answer(10**6)"
   ]
  },
  {
   "cell_type": "code",
   "execution_count": 13,
   "metadata": {},
   "outputs": [
    {
     "data": {
      "text/plain": [
       "-8000"
      ]
     },
     "execution_count": 13,
     "metadata": {},
     "output_type": "execute_result"
    }
   ],
   "source": [
    "# 274240-nm.fac(8)*7j=1\n",
    "# while True:\n",
    "#     if j*nm.fac(9)>=target:\n",
    "#         print('The '+str(target)+'th number begins with '+str(j-1)+'.')\n",
    "#         target-=(j-1)*nm.fac(9)\n",
    "#         break\n",
    "#     j+=1\n",
    "# print('The minimum nuber starting with '+str(j-1)+' is the '+str(nm.fac(9)*2+1)+'th number.')\n",
    "# print('Hence we are to fing the '+str(target)+'th number with starting with 2.')`"
   ]
  }
 ],
 "metadata": {
  "kernelspec": {
   "display_name": "Python 3",
   "language": "python",
   "name": "python3"
  },
  "language_info": {
   "codemirror_mode": {
    "name": "ipython",
    "version": 3
   },
   "file_extension": ".py",
   "mimetype": "text/x-python",
   "name": "python",
   "nbconvert_exporter": "python",
   "pygments_lexer": "ipython3",
   "version": "3.7.0"
  }
 },
 "nbformat": 4,
 "nbformat_minor": 2
}
