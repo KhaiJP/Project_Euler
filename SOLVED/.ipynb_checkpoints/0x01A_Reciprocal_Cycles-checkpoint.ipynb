{
 "cells": [
  {
   "cell_type": "code",
   "execution_count": 1,
   "metadata": {},
   "outputs": [
    {
     "data": {
      "text/plain": [
       "\"\\nThe crucial hint to solve this proble is written in the web page below\\n'http://www.virtual-hs.com/math/seisu009.html'.\\n\""
      ]
     },
     "execution_count": 1,
     "metadata": {},
     "output_type": "execute_result"
    }
   ],
   "source": [
    "'''\n",
    "The crucial hint to solve this proble is written in the web page below\n",
    "'http://www.virtual-hs.com/math/seisu009.html'.\n",
    "'''"
   ]
  },
  {
   "cell_type": "code",
   "execution_count": 2,
   "metadata": {},
   "outputs": [],
   "source": [
    "import sys;sys.path.append(\"../My_Functions\")\n",
    "import my_functions as mf"
   ]
  },
  {
   "cell_type": "code",
   "execution_count": 3,
   "metadata": {},
   "outputs": [
    {
     "name": "stdout",
     "output_type": "stream",
     "text": [
      "983\n",
      "CPU times: user 74.9 ms, sys: 1.69 ms, total: 76.6 ms\n",
      "Wall time: 76.3 ms\n"
     ]
    }
   ],
   "source": [
    "%%time\n",
    "non_terminatings=sorted([j for j in range(3,1000) if j%2!=0 and j%5!=0])\n",
    "REFERENCE=3\n",
    "for j in non_terminatings:\n",
    "    if mf.order(j)>REFERENCE: REFERENCE=j\n",
    "print(REFERENCE)"
   ]
  }
 ],
 "metadata": {
  "kernelspec": {
   "display_name": "Python 3",
   "language": "python",
   "name": "python3"
  },
  "language_info": {
   "codemirror_mode": {
    "name": "ipython",
    "version": 3
   },
   "file_extension": ".py",
   "mimetype": "text/x-python",
   "name": "python",
   "nbconvert_exporter": "python",
   "pygments_lexer": "ipython3",
   "version": "3.7.0"
  }
 },
 "nbformat": 4,
 "nbformat_minor": 2
}
