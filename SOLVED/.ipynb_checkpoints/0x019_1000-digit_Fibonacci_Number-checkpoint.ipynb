{
 "cells": [
  {
   "cell_type": "code",
   "execution_count": 1,
   "metadata": {},
   "outputs": [
    {
     "data": {
      "text/plain": [
       "'\\nThis program is to find the first Fibonacci number which contains 1000 digits.\\n'"
      ]
     },
     "execution_count": 1,
     "metadata": {},
     "output_type": "execute_result"
    }
   ],
   "source": [
    "'''\n",
    "This program is to find the first Fibonacci number which contains 1000 digits.\n",
    "'''"
   ]
  },
  {
   "cell_type": "code",
   "execution_count": 2,
   "metadata": {},
   "outputs": [],
   "source": [
    "# defining the Fibonacci sequence.\n",
    "def Fibonacci_Length(length_of_sequence:int)->list:\n",
    "    '''\n",
    "    This function is to return the list of Fibonacci sequence with starting a[0]=1 and a[1]=2.\n",
    "    The length_of_sequence must be greater than 1\n",
    "    '''\n",
    "    if length_of_sequence==1:\n",
    "        return [1]\n",
    "    a=[1,1]\n",
    "    for i in range(length_of_sequence-2):\n",
    "        a.append(a[i]+a[i+1])\n",
    "    return a"
   ]
  },
  {
   "cell_type": "code",
   "execution_count": 3,
   "metadata": {},
   "outputs": [],
   "source": [
    "def ith_Fibonacci(num:int)->int:\n",
    "    '''\n",
    "    This function is to return the ith element of Fibonacci sequence.\n",
    "    '''\n",
    "    return Fibonacci_Length(num)[num-1]"
   ]
  },
  {
   "cell_type": "code",
   "execution_count": 4,
   "metadata": {},
   "outputs": [],
   "source": [
    "def answer(num:int)->int:\n",
    "    i=1\n",
    "    while ith_Fibonacci(i)<10**(num-1):\n",
    "        i+=1\n",
    "    return i"
   ]
  },
  {
   "cell_type": "code",
   "execution_count": 5,
   "metadata": {},
   "outputs": [],
   "source": [
    "def Answer()->int:\n",
    "    return answer(1000)"
   ]
  },
  {
   "cell_type": "code",
   "execution_count": 6,
   "metadata": {},
   "outputs": [
    {
     "data": {
      "text/plain": [
       "4782"
      ]
     },
     "execution_count": 6,
     "metadata": {},
     "output_type": "execute_result"
    }
   ],
   "source": [
    "Answer()"
   ]
  },
  {
   "cell_type": "code",
   "execution_count": null,
   "metadata": {},
   "outputs": [],
   "source": []
  }
 ],
 "metadata": {
  "kernelspec": {
   "display_name": "Python 3",
   "language": "python",
   "name": "python3"
  },
  "language_info": {
   "codemirror_mode": {
    "name": "ipython",
    "version": 3
   },
   "file_extension": ".py",
   "mimetype": "text/x-python",
   "name": "python",
   "nbconvert_exporter": "python",
   "pygments_lexer": "ipython3",
   "version": "3.7.0"
  }
 },
 "nbformat": 4,
 "nbformat_minor": 2
}
