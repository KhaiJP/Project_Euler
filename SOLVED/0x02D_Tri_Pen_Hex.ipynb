{
 "cells": [
  {
   "cell_type": "code",
   "execution_count": null,
   "metadata": {},
   "outputs": [],
   "source": [
    "'''\n",
    "though the problem is solved, the algorithm is not good enough.\n",
    "'''"
   ]
  },
  {
   "cell_type": "code",
   "execution_count": null,
   "metadata": {},
   "outputs": [],
   "source": [
    "%%time\n",
    "import sympy as sp\n",
    "n=sp.Symbol('n')\n",
    "Tri=n*(n+1)/2\n",
    "Pen=n*(3*n-1)/2\n",
    "# def Tri(num:int)->int:\n",
    "#     return num*(num+1)//2\n",
    "# def Pen(num:int)->int:\n",
    "#     return num*(3*num-1)//2\n",
    "def Hex(num:int)->int:\n",
    "    return num*(2*num-1)\n",
    "def answer():\n",
    "    num=144\n",
    "    while True:\n",
    "        if type(sp.solve(Pen-Hex(num))[1])==sp.numbers.Integer:\n",
    "            if type(sp.solve(Tri-Hex(num))[1])==sp.numbers.Integer:\n",
    "                return print(Hex(num))\n",
    "        if num%3==0:\n",
    "            num+=2\n",
    "        if num%3==2:\n",
    "            num+=1\n",
    "answer()"
   ]
  },
  {
   "cell_type": "code",
   "execution_count": null,
   "metadata": {},
   "outputs": [],
   "source": []
  }
 ],
 "metadata": {
  "kernelspec": {
   "display_name": "Python 3",
   "language": "python",
   "name": "python3"
  },
  "language_info": {
   "codemirror_mode": {
    "name": "ipython",
    "version": 3
   },
   "file_extension": ".py",
   "mimetype": "text/x-python",
   "name": "python",
   "nbconvert_exporter": "python",
   "pygments_lexer": "ipython3",
   "version": "3.7.1"
  }
 },
 "nbformat": 4,
 "nbformat_minor": 2
}
