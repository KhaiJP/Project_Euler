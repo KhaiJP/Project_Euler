{
 "cells": [
  {
   "cell_type": "code",
   "execution_count": 2,
   "metadata": {},
   "outputs": [],
   "source": [
    "import sys; sys.path.append(\"../My_Functions\")\n",
    "import my_functions as mf"
   ]
  },
  {
   "cell_type": "code",
   "execution_count": 2,
   "metadata": {},
   "outputs": [],
   "source": [
    "def func(n:int, a:int, b:int)->int:\n",
    "    return n**2+a*n+b\n",
    "def prod(LIST:list)->int:\n",
    "    return LIST[0]+LIST[1]"
   ]
  },
  {
   "cell_type": "code",
   "execution_count": 25,
   "metadata": {},
   "outputs": [],
   "source": [
    "def answer(SUP_a,SUP_b):\n",
    "    fuc=lambda n,a,b:n**2+a*n+b\n",
    "    RANGE_a=[j for j in range(-SUP_a,SUP_a) if j%2==1]\n",
    "    RANGE_b=[j for j in mf.pms(1000,3) if j%2==1]\n",
    "    ANSWER=1\n",
    "    MAXIMUM_N=1\n",
    "    A,B=0,0\n",
    "    LIST_OF_PRIMES=set(mf.pms(10000,3))\n",
    "    for a in RANGE_a:\n",
    "        for b in RANGE_b:\n",
    "            n=0\n",
    "            while True:\n",
    "                f=fuc(n,a,b)\n",
    "                if (f in LIST_OF_PRIMES): \n",
    "                    n+=1\n",
    "                elif f>1 and mf.ispm(f):\n",
    "                    LIST_OF_PRIMES.add(f)\n",
    "                    n+=1\n",
    "                else:\n",
    "                    break\n",
    "            if n>MAXIMUM_N:\n",
    "                MAXIMUM_N=n\n",
    "                A=a\n",
    "                B=b\n",
    "                ANSWER=A*B\n",
    "                print(MAXIMUM_N)\n",
    "    return print(str(A)+' * ' + str(B) +' = '+str(ANSWER))"
   ]
  },
  {
   "cell_type": "code",
   "execution_count": 26,
   "metadata": {},
   "outputs": [
    {
     "name": "stdout",
     "output_type": "stream",
     "text": [
      "2\n",
      "3\n",
      "4\n",
      "5\n",
      "6\n",
      "7\n",
      "8\n",
      "9\n",
      "11\n",
      "71\n",
      "-61 * 971 = -59231\n",
      "CPU times: user 1.16 s, sys: 8.97 ms, total: 1.17 s\n",
      "Wall time: 1.2 s\n"
     ]
    }
   ],
   "source": [
    "%%time\n",
    "answer(1000,1001)"
   ]
  },
  {
   "cell_type": "code",
   "execution_count": 13,
   "metadata": {},
   "outputs": [
    {
     "name": "stdout",
     "output_type": "stream",
     "text": [
      "=\n"
     ]
    }
   ],
   "source": [
    "print('=')"
   ]
  },
  {
   "cell_type": "code",
   "execution_count": 16,
   "metadata": {},
   "outputs": [
    {
     "data": {
      "text/plain": [
       "1601"
      ]
     },
     "execution_count": 16,
     "metadata": {},
     "output_type": "execute_result"
    }
   ],
   "source": [
    "70**2-61*70+971"
   ]
  },
  {
   "cell_type": "code",
   "execution_count": 23,
   "metadata": {},
   "outputs": [],
   "source": [
    "def Answer(SUP_a,SUP_b):\n",
    "    fuc=lambda n,a,b:n**2+a*n+b\n",
    "    RANGE_a=[j for j in range(-SUP_a,SUP_a) if j%2==1]\n",
    "    RANGE_b=[j for j in mf.pms(1000,3) if j%2==1]\n",
    "    ANSWER=1\n",
    "    N=1\n",
    "    A,B=0,0\n",
    "    LIST_OF_PRIMES=set(mf.pms(10000,3))\n",
    "    for a in RANGE_a:\n",
    "        for b in RANGE_b:\n",
    "            n=0\n",
    "            f=fuc(n,a,b)\n",
    "            while f>0 and mf.ispm(f):\n",
    "                n+=1\n",
    "                f=fuc(n,a,b)\n",
    "            if n>N:\n",
    "                N=n\n",
    "                A=a\n",
    "                B=b\n",
    "                ANSWER=A*B\n",
    "                print(N)\n",
    "    return print(str(A)+' * ' + str(B) +' = '+str(ANSWER))"
   ]
  },
  {
   "cell_type": "code",
   "execution_count": 24,
   "metadata": {},
   "outputs": [
    {
     "name": "stdout",
     "output_type": "stream",
     "text": [
      "2\n",
      "3\n",
      "4\n",
      "5\n",
      "6\n",
      "7\n",
      "8\n",
      "9\n",
      "11\n",
      "71\n",
      "-61 * 971 = -59231\n"
     ]
    }
   ],
   "source": [
    "Answer(1000,1001)"
   ]
  },
  {
   "cell_type": "code",
   "execution_count": null,
   "metadata": {},
   "outputs": [],
   "source": []
  }
 ],
 "metadata": {
  "kernelspec": {
   "display_name": "Python 3",
   "language": "python",
   "name": "python3"
  },
  "language_info": {
   "codemirror_mode": {
    "name": "ipython",
    "version": 3
   },
   "file_extension": ".py",
   "mimetype": "text/x-python",
   "name": "python",
   "nbconvert_exporter": "python",
   "pygments_lexer": "ipython3",
   "version": "3.7.0"
  }
 },
 "nbformat": 4,
 "nbformat_minor": 2
}
