{
 "cells": [
  {
   "cell_type": "code",
   "execution_count": 3,
   "metadata": {},
   "outputs": [],
   "source": [
    "import sys;sys.path.append(\"../My_Functions\")\n",
    "import my_functions as mf"
   ]
  },
  {
   "cell_type": "code",
   "execution_count": 4,
   "metadata": {},
   "outputs": [],
   "source": [
    "def answer(TARGET):\n",
    "    '''\n",
    "    With this programm, the cases TARGET is greater than or equal to 5 are practically uncalculatable.\n",
    "    The narrowest bottle-neck is the part of prime factoring\n",
    "    '''\n",
    "    n=2*3*5*7\n",
    "    while True:\n",
    "        j=0\n",
    "        while j<=TARGET:\n",
    "            if j<TARGET:\n",
    "                if len(mf.pf(n+j))==TARGET:\n",
    "                    j+=1\n",
    "                    continue\n",
    "                else:\n",
    "                    n+=j+1\n",
    "                    break\n",
    "            else: return print(n)"
   ]
  },
  {
   "cell_type": "code",
   "execution_count": null,
   "metadata": {},
   "outputs": [],
   "source": [
    "%%time\n",
    "answer(54)"
   ]
  },
  {
   "cell_type": "code",
   "execution_count": 13,
   "metadata": {},
   "outputs": [
    {
     "data": {
      "text/plain": [
       "1"
      ]
     },
     "execution_count": 13,
     "metadata": {},
     "output_type": "execute_result"
    }
   ],
   "source": [
    "len(mf.pf(128))"
   ]
  },
  {
   "cell_type": "code",
   "execution_count": 2,
   "metadata": {},
   "outputs": [],
   "source": [
    "def Answer():\n",
    "    TARGET=5\n",
    "    n=2\n",
    "    while True:\n",
    "        if len(mf.pf(n))==TARGET:#0\n",
    "            if len(mf.pf(n+1))==TARGET:#1\n",
    "                if len(mf.pf(n+2))==TARGET:#2\n",
    "                    if len(mf.pf(n+3))==TARGET:#3\n",
    "                        if len(mf.pf(n+4)):\n",
    "                            return n\n",
    "                        else: n+=4\n",
    "                    else: n+=3#4\n",
    "                else: n+=1#3\n",
    "            else:n+=2#2\n",
    "        else:n+=1#1"
   ]
  },
  {
   "cell_type": "code",
   "execution_count": null,
   "metadata": {},
   "outputs": [],
   "source": [
    "%%time\n",
    "Answer()"
   ]
  },
  {
   "cell_type": "code",
   "execution_count": 2,
   "metadata": {},
   "outputs": [
    {
     "name": "stdout",
     "output_type": "stream",
     "text": [
      "134043\n",
      "1.8410286903381348\n"
     ]
    }
   ],
   "source": [
    "'''\n",
    "From a blog https://radiusofcircle.blogspot.com/2016/06/problem-47-project-euler-solution-with-python.html\n",
    "'''\n",
    "import time\n",
    "\n",
    "# time at the start of program execution\n",
    "start = time.time()\n",
    "\n",
    "\n",
    "def npf(number):\n",
    "    \"\"\"function which will return\n",
    "    the number of prime factors\"\"\"\n",
    "    i = 2\n",
    "    a = set()\n",
    "    while i < number**0.5 or number == 1:\n",
    "        if number % i == 0:\n",
    "            number = number//i\n",
    "            a.add(i)\n",
    "            i -= 1\n",
    "        i += 1\n",
    "    return (len(a)+1)\n",
    "\n",
    "# iterator\n",
    "j = 2*3*5*7\n",
    "\n",
    "# while loop\n",
    "while True:\n",
    "    if npf(j) == 4:\n",
    "        j += 1\n",
    "        if npf(j) == 4:\n",
    "            j += 1\n",
    "            if npf(j) == 4:\n",
    "                j += 1\n",
    "                if npf(j) == 4:\n",
    "                    print(j-3)\n",
    "                    break\n",
    "    j += 1\n",
    "\n",
    "# time at the end of program execution\n",
    "end = time.time()\n",
    "\n",
    "# total time for execution\n",
    "print(end - start)"
   ]
  },
  {
   "cell_type": "code",
   "execution_count": 4,
   "metadata": {},
   "outputs": [],
   "source": [
    "import sympy"
   ]
  },
  {
   "cell_type": "code",
   "execution_count": 6,
   "metadata": {},
   "outputs": [],
   "source": [
    "def Answer(TARGET):\n",
    "    '''\n",
    "    With this programm, the cases TARGET is greater than or equal to 5 are practically uncalculatable.\n",
    "    '''\n",
    "    n=2*3*5*7\n",
    "    while True:\n",
    "        j=0\n",
    "        while j<=TARGET:\n",
    "            if j<TARGET:\n",
    "                if len(sympy.factorint(n+j))==TARGET:\n",
    "                    j+=1\n",
    "                    continue\n",
    "                else:\n",
    "                    n+=j+1\n",
    "                    break\n",
    "            else: return print(n)"
   ]
  },
  {
   "cell_type": "code",
   "execution_count": null,
   "metadata": {},
   "outputs": [],
   "source": [
    "%%time\n",
    "Answer(5)"
   ]
  },
  {
   "cell_type": "code",
   "execution_count": null,
   "metadata": {},
   "outputs": [],
   "source": []
  }
 ],
 "metadata": {
  "kernelspec": {
   "display_name": "Python 3",
   "language": "python",
   "name": "python3"
  },
  "language_info": {
   "codemirror_mode": {
    "name": "ipython",
    "version": 3
   },
   "file_extension": ".py",
   "mimetype": "text/x-python",
   "name": "python",
   "nbconvert_exporter": "python",
   "pygments_lexer": "ipython3",
   "version": "3.7.0"
  }
 },
 "nbformat": 4,
 "nbformat_minor": 2
}
