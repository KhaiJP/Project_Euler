{
 "cells": [
  {
   "cell_type": "markdown",
   "metadata": {},
   "source": [
    "$$\n",
    "\\begin{align}\n",
    "    \\frac{3n^2-n}{2} &= k\\\\\n",
    "    3n^2 - n &= 2k\\\\\n",
    "    3n^2 - n - 2k &= 0\\\\\n",
    "    \\Rightarrow \\hspace{30pt}n &= \\frac{1 \\pm \\sqrt{1+24k}}{6}\n",
    "\\end{align}\n",
    "$$"
   ]
  },
  {
   "cell_type": "markdown",
   "metadata": {},
   "source": [
    "#### To ensure n is a natural, the term of square root must be 5 (mod 6)\n",
    "#### Hence"
   ]
  },
  {
   "cell_type": "markdown",
   "metadata": {},
   "source": [
    "$$\n",
    "\\begin{align}\n",
    "    24k+1 &\\equiv 1\\hspace{15pt}(\\mbox{mod}\\ 6)\\\\\n",
    "    24k &\\equiv 0 \\hspace{15pt}(\\mbox{mod}\\ 6)\\\\\n",
    "    k &\\equiv \\mbox{whatever.....my goodness....}\n",
    "\\end{align}\n",
    "$$"
   ]
  },
  {
   "cell_type": "markdown",
   "metadata": {},
   "source": [
    "Here \n",
    "$$\n",
    "\\begin{align}\n",
    "    \\frac{3n^2-n}{2} + \\frac{3m^2-m}{2} &= \\frac{1}{2}\\bigl\\{3(n^2+m^2)-(n+m)\\bigr\\}\\\\\n",
    "    \\frac{3n^2-n}{2} - \\frac{3m^2-m}{2} &= \\frac{1}{2}\\bigl\\{3(n-m)(n+m)-(n-m)\\biggr\\}\\\\\n",
    "    &= \\frac{1}{2}(n-m)\\biggl\\{3(n+m)-1\\biggr\\}\n",
    "\\end{align}\n",
    "$$\n",
    "#### Let the right most be a Pentagon number so that there exists a natural, $l$, such that\n",
    "$$\n",
    "\\begin{align}\n",
    "    \\frac{1}{2}l(3l-1)=\\frac{1}{2}(n-m)\\biggl\\{3(n+m)-1\\biggr\\}.\n",
    "\\end{align}\n",
    "$$\n",
    "#### Apparently $l$ and $3l-1$ are coprime for each other;\n",
    "$$\n",
    "    3\\times(l)+(-1)\\times(3l-1)=1\n",
    "$$"
   ]
  },
  {
   "cell_type": "code",
   "execution_count": 12,
   "metadata": {},
   "outputs": [],
   "source": [
    "P=lambda n : n*(3*n-1)/2\n",
    "isP=lambda k: ((1+(1+24*k)**(1/2))/6).is_integer()\n",
    "whatn=lambda k : (1+(1+24*k)**(1/2))/6"
   ]
  },
  {
   "cell_type": "code",
   "execution_count": null,
   "metadata": {},
   "outputs": [],
   "source": [
    "%%time\n",
    "D=10**6\n",
    "for j in range(1,1000):\n",
    "    for k in range(j+1,1000):\n",
    "        if isP(P(k)+P(j)):\n",
    "            if isP(P(k)-P(j)) and P(k)-P(j)<D:\n",
    "                D=P(k)-P(j)\n",
    "                print(D,(k,j))"
   ]
  },
  {
   "cell_type": "code",
   "execution_count": 9,
   "metadata": {},
   "outputs": [
    {
     "data": {
      "text/plain": [
       "314.0"
      ]
     },
     "execution_count": 9,
     "metadata": {},
     "output_type": "execute_result"
    }
   ],
   "source": [
    "whatn(P(39)+P(35))"
   ]
  },
  {
   "cell_type": "code",
   "execution_count": 10,
   "metadata": {},
   "outputs": [
    {
     "data": {
      "text/plain": [
       "False"
      ]
     },
     "execution_count": 10,
     "metadata": {},
     "output_type": "execute_result"
    }
   ],
   "source": [
    "P(39)+P(35)==P(314)"
   ]
  },
  {
   "cell_type": "code",
   "execution_count": 13,
   "metadata": {},
   "outputs": [
    {
     "data": {
      "text/plain": [
       "[5, 4, 3, 2]"
      ]
     },
     "execution_count": 13,
     "metadata": {},
     "output_type": "execute_result"
    }
   ],
   "source": [
    "s=[1,2,3,4,5]\n",
    "s[::-1]"
   ]
  },
  {
   "cell_type": "code",
   "execution_count": null,
   "metadata": {},
   "outputs": [],
   "source": []
  }
 ],
 "metadata": {
  "kernelspec": {
   "display_name": "Python 3",
   "language": "python",
   "name": "python3"
  },
  "language_info": {
   "codemirror_mode": {
    "name": "ipython",
    "version": 3
   },
   "file_extension": ".py",
   "mimetype": "text/x-python",
   "name": "python",
   "nbconvert_exporter": "python",
   "pygments_lexer": "ipython3",
   "version": "3.7.1"
  }
 },
 "nbformat": 4,
 "nbformat_minor": 2
}
