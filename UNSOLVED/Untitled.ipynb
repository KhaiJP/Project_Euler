{
 "cells": [
  {
   "cell_type": "code",
   "execution_count": 1,
   "metadata": {},
   "outputs": [],
   "source": [
    "import sys; sys.path.append(\"../My_Functions\")\n",
    "# import Is_Prime as ip\n",
    "import prime_function as pf\n",
    "import number as nm\n",
    "# from My_Functions import prime_function as pf"
   ]
  },
  {
   "cell_type": "code",
   "execution_count": 3,
   "metadata": {},
   "outputs": [
    {
     "name": "stdout",
     "output_type": "stream",
     "text": [
      "1\n"
     ]
    }
   ],
   "source": [
    "print(nm.fac(0)*nm.fac(1))"
   ]
  },
  {
   "cell_type": "code",
   "execution_count": 7,
   "metadata": {},
   "outputs": [
    {
     "data": {
      "text/plain": [
       "137846528820"
      ]
     },
     "execution_count": 7,
     "metadata": {},
     "output_type": "execute_result"
    }
   ],
   "source": [
    "nm.fac(40)//(nm.fac(20)**2)"
   ]
  },
  {
   "cell_type": "code",
   "execution_count": 2,
   "metadata": {},
   "outputs": [
    {
     "name": "stdout",
     "output_type": "stream",
     "text": [
      "-59231\n"
     ]
    }
   ],
   "source": [
    "def hoge(num_a, num_b):\n",
    "    f = lambda n, a, b : n ** 2 + a * n + b\n",
    "    lst_prime = set() # 判定済みの素数格納用\n",
    "    ans, max_cnt = 0, 0\n",
    "    for a in range(-num_a + 1, num_a):\n",
    "        for b in range(-num_b + 1, num_b):\n",
    "            n = 0\n",
    "            while True:\n",
    "                x = f(n, a, b)\n",
    "                if x in lst_prime or check_prime(x):\n",
    "                    lst_prime.add(x)\n",
    "                    n += 1\n",
    "                else:\n",
    "                    break\n",
    "            if max_cnt < n:\n",
    "                max_cnt = n\n",
    "                ans = a * b\n",
    "    return ans\n",
    "\n",
    "def check_prime(n): #素数判定用関数\n",
    "    if n < 1:\n",
    "        return False\n",
    "    else:\n",
    "        for i in range(2, (n//2)):\n",
    "            if n % i == 0:\n",
    "                return False\n",
    "        return True\n",
    "\n",
    "print(hoge(1000,1001))"
   ]
  },
  {
   "cell_type": "code",
   "execution_count": 3,
   "metadata": {},
   "outputs": [
    {
     "name": "stdout",
     "output_type": "stream",
     "text": [
      "-59231\n",
      "CPU times: user 3.36 s, sys: 23 ms, total: 3.38 s\n",
      "Wall time: 3.52 s\n"
     ]
    }
   ],
   "source": [
    "%%time\n",
    "print(hoge(1000,1001))"
   ]
  },
  {
   "cell_type": "code",
   "execution_count": null,
   "metadata": {},
   "outputs": [],
   "source": []
  }
 ],
 "metadata": {
  "kernelspec": {
   "display_name": "Python 3",
   "language": "python",
   "name": "python3"
  },
  "language_info": {
   "codemirror_mode": {
    "name": "ipython",
    "version": 3
   },
   "file_extension": ".py",
   "mimetype": "text/x-python",
   "name": "python",
   "nbconvert_exporter": "python",
   "pygments_lexer": "ipython3",
   "version": "3.7.0"
  }
 },
 "nbformat": 4,
 "nbformat_minor": 2
}
